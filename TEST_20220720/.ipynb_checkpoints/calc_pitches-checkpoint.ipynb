{
 "cells": [
  {
   "cell_type": "code",
   "execution_count": 1,
   "id": "06ba50c9",
   "metadata": {
    "ExecuteTime": {
     "end_time": "2022-07-20T13:48:50.212519Z",
     "start_time": "2022-07-20T13:48:49.758549Z"
    }
   },
   "outputs": [],
   "source": [
    "import numpy as np\n",
    "import matplotlib.pyplot as plt"
   ]
  },
  {
   "cell_type": "code",
   "execution_count": 18,
   "id": "495cbfed",
   "metadata": {
    "ExecuteTime": {
     "end_time": "2022-07-20T14:59:58.065533Z",
     "start_time": "2022-07-20T14:59:58.050295Z"
    }
   },
   "outputs": [],
   "source": [
    "def calc_angle2mm(angle):\n",
    "    radius = 2370 #mm\n",
    "    mm = angle/3600*np.pi/180*radius\n",
    "    print(\"%.3f (mm)\"%(mm))\n",
    "    print(\"tilt     %.2f (pitch)\"%(mm/1.25))\n",
    "    print(\"decenter %.2f (pitch)\"%(mm/2.50))\n",
    "    return mm\n",
    "def calc_mm2pitch(mm):\n",
    "    print(\"tilt     %.2f (pitch)\"%(mm/1.25))\n",
    "    print(\"decenter %.2f (pitch)\"%(mm/2.50))"
   ]
  },
  {
   "cell_type": "code",
   "execution_count": 22,
   "id": "ec2e2f4d",
   "metadata": {
    "ExecuteTime": {
     "end_time": "2022-07-20T15:05:33.163522Z",
     "start_time": "2022-07-20T15:05:33.160497Z"
    }
   },
   "outputs": [
    {
     "name": "stdout",
     "output_type": "stream",
     "text": [
      "tilt     -2.13 (pitch)\n",
      "decenter -1.06 (pitch)\n",
      "tilt     2.31 (pitch)\n",
      "decenter 1.15 (pitch)\n"
     ]
    }
   ],
   "source": [
    "#calc_angle2mm(10);\n",
    "calc_mm2pitch(-2.6584) # x\n",
    "calc_mm2pitch(2.8844) # y"
   ]
  },
  {
   "cell_type": "code",
   "execution_count": 25,
   "id": "abed0386",
   "metadata": {
    "ExecuteTime": {
     "end_time": "2022-07-20T15:10:15.497643Z",
     "start_time": "2022-07-20T15:10:15.492412Z"
    }
   },
   "outputs": [
    {
     "name": "stdout",
     "output_type": "stream",
     "text": [
      "-7.556 (mm)\n",
      "tilt     -6.05 (pitch)\n",
      "decenter -3.02 (pitch)\n",
      "2.499 (mm)\n",
      "tilt     2.00 (pitch)\n",
      "decenter 1.00 (pitch)\n"
     ]
    },
    {
     "data": {
      "text/plain": [
       "2.498633719329689"
      ]
     },
     "execution_count": 25,
     "metadata": {},
     "output_type": "execute_result"
    }
   ],
   "source": [
    "calc_angle2mm(-657.64) # x\n",
    "calc_angle2mm(217.46) # y"
   ]
  },
  {
   "cell_type": "code",
   "execution_count": null,
   "id": "7b9c3ca5",
   "metadata": {},
   "outputs": [],
   "source": []
  }
 ],
 "metadata": {
  "kernelspec": {
   "display_name": "Python 3",
   "language": "python",
   "name": "python3"
  },
  "language_info": {
   "codemirror_mode": {
    "name": "ipython",
    "version": 3
   },
   "file_extension": ".py",
   "mimetype": "text/x-python",
   "name": "python",
   "nbconvert_exporter": "python",
   "pygments_lexer": "ipython3",
   "version": "3.9.5"
  }
 },
 "nbformat": 4,
 "nbformat_minor": 5
}
