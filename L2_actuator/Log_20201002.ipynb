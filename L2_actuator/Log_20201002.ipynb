{
 "cells": [
  {
   "cell_type": "code",
   "execution_count": 1,
   "metadata": {},
   "outputs": [],
   "source": [
    "import numpy as np"
   ]
  },
  {
   "cell_type": "code",
   "execution_count": 2,
   "metadata": {
    "code_folding": [
     0,
     13
    ]
   },
   "outputs": [],
   "source": [
    "def L2_as2actuator(z_mm, Rx_as, Ry_as, A1theta_deg = 0):\n",
    "    R=205.# mm\n",
    "    Rx_rad = np.radians(Rx_as/3600)\n",
    "    Ry_rad = np.radians(Ry_as/3600)\n",
    "    #R_size = np.sqrt(Rx_rad**2+Ry_rad**2)\n",
    "    #Rx_rad = R_size*np.cos(np.radians(A1theta_deg))\n",
    "    #Ry_rad = R_size*np.sin(np.radians(A1theta_deg))\n",
    "    A1=z_mm - R*np.tan(Ry_rad)\n",
    "    A2=z_mm + R/2*(np.tan(Ry_rad) - np.sqrt(3)*np.tan(Rx_rad))\n",
    "    A3=z_mm + R/2*(np.tan(Ry_rad) + np.sqrt(3)*np.tan(Rx_rad))\n",
    "    print('You wanna move L2 z:{0}mm, Rx:{1}arcsec, Ry:{2}arcsec ?'.format(z_mm, Rx_as, Ry_as))\n",
    "    print('Hahaha.. you fuckin Move actuator1: {0:.4f}mm, actuator2: {1:.4f}mm, actuator3: {2:.4f}mm '.format(A1,A2,A3))\n",
    "    return A1,A2,A3\n",
    "def L2_as2actuator_kirikawa(z_mm, Rx_as, Ry_as, A1theta_deg):\n",
    "    R=205.# mm\n",
    "    Rx_rad = np.radians(Rx_as/3600)\n",
    "    Ry_rad = np.radians(Ry_as/3600)\n",
    "    x_A3 = R*np.cos(np.radians(A1theta_deg))\n",
    "    y_A3 = R*np.sin(np.radians(A1theta_deg))\n",
    "    #A1=z_mm + ((- x_A1*np.sin(Ry_rad) + y_A1*np.sin(Rx_rad)*np.cos(Ry_rad))/np.cos(Ry_rad))\n",
    "    #A1=z_mm + ((- x_A1*np.sin(Ry_rad) + y_A1*np.sin(Rx_rad)*np.cos(Ry_rad))/(np.cos(Rx_rad)*np.cos(Ry_rad)))\n",
    "    x_A1 = R*np.cos(np.radians(240 + A1theta_deg))\n",
    "    y_A1 = R*np.sin(np.radians(240 + A1theta_deg))\n",
    "    #A2=z_mm + ((- x_A2*np.sin(Ry_rad) + y_A2*np.sin(Rx_rad)*np.cos(Ry_rad))/(np.cos(Rx_rad)*np.cos(Ry_rad)))\n",
    "    x_A2 = R*np.cos(np.radians(120 + A1theta_deg))\n",
    "    y_A2 = R*np.sin(np.radians(120 + A1theta_deg))\n",
    "    A1=z_mm + ((- x_A1*np.sin(Ry_rad) + y_A1*np.sin(Rx_rad)*np.cos(Ry_rad))/(np.cos(Rx_rad)*np.cos(Ry_rad)))\n",
    "    A2=z_mm + ((- x_A2*np.sin(Ry_rad) + y_A2*np.sin(Rx_rad)*np.cos(Ry_rad))/(np.cos(Rx_rad)*np.cos(Ry_rad)))\n",
    "    A3=z_mm + ((- x_A3*np.sin(Ry_rad) + y_A3*np.sin(Rx_rad)*np.cos(Ry_rad))/(np.cos(Rx_rad)*np.cos(Ry_rad)))\n",
    "    print('You wanna move L2 z:{0}mm, Rx:{1}arcsec, Ry:{2}arcsec ?'.format(z_mm, Rx_as, Ry_as))\n",
    "    print('Hahaha.. you fuckin Move actuator1: {0:.4f}mm, actuator2: {1:.4f}mm, actuator3: {2:.4f}mm '.format(-A1,-A2,-A3))\n",
    "    return A1,A2,A3\n",
    "def L2_as2actuator_kirikawa2(z_mm, Rx_as, Ry_as, A1theta_deg):\n",
    "    R=205.# mm\n",
    "    Rx_rad = np.radians(Rx_as/3600)\n",
    "    Ry_rad = np.radians(Ry_as/3600)\n",
    "    x_A3 = R*np.cos(np.radians(A1theta_deg))\n",
    "    y_A3 = R*np.sin(np.radians(A1theta_deg))\n",
    "    #A1=z_mm + ((- x_A1*np.sin(Ry_rad) + y_A1*np.sin(Rx_rad)*np.cos(Ry_rad))/np.cos(Ry_rad))\n",
    "    #A1=z_mm + ((- x_A1*np.cos(Rx_rad)*np.sin(Ry_rad) + y_A1*np.sin(Rx_rad))/(np.cos(Rx_rad)*np.cos(Ry_rad)))\n",
    "    x_A1 = R*np.cos(np.radians(240 + A1theta_deg))\n",
    "    y_A1 = R*np.sin(np.radians(240 + A1theta_deg))\n",
    "    #A2=z_mm + ((- x_A2*np.cos(Rx_rad)*np.sin(Ry_rad) + y_A2*np.sin(Rx_rad))/(np.cos(Rx_rad)*np.cos(Ry_rad)))\n",
    "    x_A2 = R*np.cos(np.radians(120 + A1theta_deg))\n",
    "    y_A2 = R*np.sin(np.radians(120 + A1theta_deg))\n",
    "    A1=z_mm + ((- x_A1*np.cos(Rx_rad)*np.sin(Ry_rad) + y_A1*np.sin(Rx_rad))/(np.cos(Rx_rad)*np.cos(Ry_rad)))\n",
    "    A2=z_mm + ((- x_A2*np.cos(Rx_rad)*np.sin(Ry_rad) + y_A2*np.sin(Rx_rad))/(np.cos(Rx_rad)*np.cos(Ry_rad)))\n",
    "    A3=z_mm + ((- x_A3*np.cos(Rx_rad)*np.sin(Ry_rad) + y_A3*np.sin(Rx_rad))/(np.cos(Rx_rad)*np.cos(Ry_rad)))\n",
    "    print('You wanna move L2 z:{0}mm, Rx:{1}arcsec, Ry:{2}arcsec ?'.format(z_mm, Rx_as, Ry_as))\n",
    "    print('Hahaha.. you fuckin Move actuator1: {0:.3f}mm, actuator2: {1:.3f}mm, actuator3: {2:.3f}mm '.format(A1,A2,A3))\n",
    "    #return A1,A2,A3"
   ]
  },
  {
   "cell_type": "markdown",
   "metadata": {},
   "source": [
    "# Log 2020/10/02 21:00~\n",
    "A3をx軸方向(+4.5度)とし、鏡の方向をz軸方向とする。<br>\n",
    "得られる値は空の方向を正としたactuatorの移動量。<br>\n",
    "\n",
    "\n",
    "\n"
   ]
  },
  {
   "cell_type": "code",
   "execution_count": 7,
   "metadata": {
    "scrolled": false
   },
   "outputs": [
    {
     "name": "stdout",
     "output_type": "stream",
     "text": [
      "You wanna move L2 z:0mm, Rx:0arcsec, Ry:0arcsec ?\n",
      "Hahaha.. you fuckin Move actuator1: 0.000mm, actuator2: 0.000mm, actuator3: 0.000mm \n"
     ]
    }
   ],
   "source": [
    "L2_as2actuator_kirikawa2(0,0,0,4.5)"
   ]
  },
  {
   "cell_type": "code",
   "execution_count": null,
   "metadata": {},
   "outputs": [],
   "source": []
  },
  {
   "cell_type": "code",
   "execution_count": null,
   "metadata": {},
   "outputs": [],
   "source": []
  }
 ],
 "metadata": {
  "kernelspec": {
   "display_name": "Python 3",
   "language": "python",
   "name": "python3"
  },
  "language_info": {
   "codemirror_mode": {
    "name": "ipython",
    "version": 3
   },
   "file_extension": ".py",
   "mimetype": "text/x-python",
   "name": "python",
   "nbconvert_exporter": "python",
   "pygments_lexer": "ipython3",
   "version": "3.6.8"
  },
  "toc": {
   "base_numbering": 1,
   "nav_menu": {},
   "number_sections": true,
   "sideBar": true,
   "skip_h1_title": false,
   "title_cell": "Table of Contents",
   "title_sidebar": "Contents",
   "toc_cell": false,
   "toc_position": {},
   "toc_section_display": true,
   "toc_window_display": false
  }
 },
 "nbformat": 4,
 "nbformat_minor": 4
}
