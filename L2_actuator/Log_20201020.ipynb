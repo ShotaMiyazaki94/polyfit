{
 "cells": [
  {
   "cell_type": "code",
   "execution_count": 8,
   "metadata": {},
   "outputs": [],
   "source": [
    "import numpy as np"
   ]
  },
  {
   "cell_type": "code",
   "execution_count": 9,
   "metadata": {
    "code_folding": [
     0,
     13,
     32
    ]
   },
   "outputs": [],
   "source": [
    "def L2_as2actuator(z_mm, Rx_as, Ry_as, A1theta_deg = 0):\n",
    "    R=205.# mm\n",
    "    Rx_rad = np.radians(Rx_as/3600)\n",
    "    Ry_rad = np.radians(Ry_as/3600)\n",
    "    #R_size = np.sqrt(Rx_rad**2+Ry_rad**2)\n",
    "    #Rx_rad = R_size*np.cos(np.radians(A1theta_deg))\n",
    "    #Ry_rad = R_size*np.sin(np.radians(A1theta_deg))\n",
    "    A1=z_mm - R*np.tan(Ry_rad)\n",
    "    A2=z_mm + R/2*(np.tan(Ry_rad) - np.sqrt(3)*np.tan(Rx_rad))\n",
    "    A3=z_mm + R/2*(np.tan(Ry_rad) + np.sqrt(3)*np.tan(Rx_rad))\n",
    "    print('You wanna move L2 z:{0}mm, Rx:{1}arcsec, Ry:{2}arcsec ?'.format(z_mm, Rx_as, Ry_as))\n",
    "    print('Hahaha.. you fuckin Move actuator1: {0:.4f}mm, actuator2: {1:.4f}mm, actuator3: {2:.4f}mm '.format(A1,A2,A3))\n",
    "    return A1,A2,A3\n",
    "def L2_as2actuator_kirikawa(z_mm, Rx_as, Ry_as, A1theta_deg):\n",
    "    R=205.# mm\n",
    "    Rx_rad = np.radians(Rx_as/3600)\n",
    "    Ry_rad = np.radians(Ry_as/3600)\n",
    "    x_A3 = R*np.cos(np.radians(A1theta_deg))\n",
    "    y_A3 = R*np.sin(np.radians(A1theta_deg))\n",
    "    #A1=z_mm + ((- x_A1*np.sin(Ry_rad) + y_A1*np.sin(Rx_rad)*np.cos(Ry_rad))/np.cos(Ry_rad))\n",
    "    #A1=z_mm + ((- x_A1*np.sin(Ry_rad) + y_A1*np.sin(Rx_rad)*np.cos(Ry_rad))/(np.cos(Rx_rad)*np.cos(Ry_rad)))\n",
    "    x_A1 = R*np.cos(np.radians(240 + A1theta_deg))\n",
    "    y_A1 = R*np.sin(np.radians(240 + A1theta_deg))\n",
    "    #A2=z_mm + ((- x_A2*np.sin(Ry_rad) + y_A2*np.sin(Rx_rad)*np.cos(Ry_rad))/(np.cos(Rx_rad)*np.cos(Ry_rad)))\n",
    "    x_A2 = R*np.cos(np.radians(120 + A1theta_deg))\n",
    "    y_A2 = R*np.sin(np.radians(120 + A1theta_deg))\n",
    "    A1=z_mm + ((- x_A1*np.sin(Ry_rad) + y_A1*np.sin(Rx_rad)*np.cos(Ry_rad))/(np.cos(Rx_rad)*np.cos(Ry_rad)))\n",
    "    A2=z_mm + ((- x_A2*np.sin(Ry_rad) + y_A2*np.sin(Rx_rad)*np.cos(Ry_rad))/(np.cos(Rx_rad)*np.cos(Ry_rad)))\n",
    "    A3=z_mm + ((- x_A3*np.sin(Ry_rad) + y_A3*np.sin(Rx_rad)*np.cos(Ry_rad))/(np.cos(Rx_rad)*np.cos(Ry_rad)))\n",
    "    print('You wanna move L2 z:{0}mm, Rx:{1}arcsec, Ry:{2}arcsec ?'.format(z_mm, Rx_as, Ry_as))\n",
    "    print('Hahaha.. you fuckin Move actuator1: {0:.4f}mm, actuator2: {1:.4f}mm, actuator3: {2:.4f}mm '.format(-A1,-A2,-A3))\n",
    "    return A1,A2,A3\n",
    "def L2_as2actuator_kirikawa2(z_mm, Rx_as, Ry_as, A1theta_deg):\n",
    "    R=205.# mm\n",
    "    Rx_rad = np.radians(Rx_as/3600)\n",
    "    Ry_rad = np.radians(Ry_as/3600)\n",
    "    x_A3 = R*np.cos(np.radians(A1theta_deg))\n",
    "    y_A3 = R*np.sin(np.radians(A1theta_deg))\n",
    "    #A1=z_mm + ((- x_A1*np.sin(Ry_rad) + y_A1*np.sin(Rx_rad)*np.cos(Ry_rad))/np.cos(Ry_rad))\n",
    "    #A1=z_mm + ((- x_A1*np.cos(Rx_rad)*np.sin(Ry_rad) + y_A1*np.sin(Rx_rad))/(np.cos(Rx_rad)*np.cos(Ry_rad)))\n",
    "    x_A1 = R*np.cos(np.radians(240 + A1theta_deg))\n",
    "    y_A1 = R*np.sin(np.radians(240 + A1theta_deg))\n",
    "    #A2=z_mm + ((- x_A2*np.cos(Rx_rad)*np.sin(Ry_rad) + y_A2*np.sin(Rx_rad))/(np.cos(Rx_rad)*np.cos(Ry_rad)))\n",
    "    x_A2 = R*np.cos(np.radians(120 + A1theta_deg))\n",
    "    y_A2 = R*np.sin(np.radians(120 + A1theta_deg))\n",
    "    A1=z_mm + ((- x_A1*np.cos(Rx_rad)*np.sin(Ry_rad) + y_A1*np.sin(Rx_rad))/(np.cos(Rx_rad)*np.cos(Ry_rad)))\n",
    "    A2=z_mm + ((- x_A2*np.cos(Rx_rad)*np.sin(Ry_rad) + y_A2*np.sin(Rx_rad))/(np.cos(Rx_rad)*np.cos(Ry_rad)))\n",
    "    A3=z_mm + ((- x_A3*np.cos(Rx_rad)*np.sin(Ry_rad) + y_A3*np.sin(Rx_rad))/(np.cos(Rx_rad)*np.cos(Ry_rad)))\n",
    "    print('You wanna move L2 z:{0}mm, Rx:{1}arcsec, Ry:{2}arcsec ?'.format(z_mm, Rx_as, Ry_as))\n",
    "    print('Hahaha.. you fuckin Move actuator1: {0:.3f}mm, actuator2: {1:.3f}mm, actuator3: {2:.3f}mm '.format(A1,A2,A3))\n",
    "    #return A1,A2,A3"
   ]
  },
  {
   "cell_type": "markdown",
   "metadata": {},
   "source": [
    "# Log 2020/10/20 \n",
    "A3をx軸方向(+4.5度)とし、鏡の方向をz軸方向とする。<br>\n",
    "得られる値は空の方向を正としたactuatorの移動量。<br>\n",
    "\n",
    "\n",
    "\n"
   ]
  },
  {
   "cell_type": "code",
   "execution_count": 10,
   "metadata": {},
   "outputs": [
    {
     "name": "stdout",
     "output_type": "stream",
     "text": [
      "You wanna move L2 z:0mm, Rx:-500arcsec, Ry:0arcsec ?\n",
      "Hahaha.. you fuckin Move actuator1: 0.449mm, actuator2: -0.410mm, actuator3: -0.039mm \n"
     ]
    }
   ],
   "source": [
    "L2_as2actuator_kirikawa2(0,-500,0,4.5)"
   ]
  },
  {
   "cell_type": "code",
   "execution_count": 11,
   "metadata": {
    "scrolled": false
   },
   "outputs": [
    {
     "name": "stdout",
     "output_type": "stream",
     "text": [
      "You wanna move L2 z:-0.05mm, Rx:-100arcsec, Ry:0arcsec ?\n",
      "Hahaha.. you fuckin Move actuator1: 0.040mm, actuator2: -0.132mm, actuator3: -0.058mm \n"
     ]
    }
   ],
   "source": [
    "L2_as2actuator_kirikawa2(-0.05,-100,0,4.5)"
   ]
  },
  {
   "cell_type": "code",
   "execution_count": 12,
   "metadata": {},
   "outputs": [
    {
     "name": "stdout",
     "output_type": "stream",
     "text": [
      "You wanna move L2 z:-0.025mm, Rx:-125arcsec, Ry:0arcsec ?\n",
      "Hahaha.. you fuckin Move actuator1: 0.087mm, actuator2: -0.127mm, actuator3: -0.035mm \n"
     ]
    }
   ],
   "source": [
    "L2_as2actuator_kirikawa2(-0.025,-125,0,4.5)"
   ]
  },
  {
   "cell_type": "code",
   "execution_count": 13,
   "metadata": {},
   "outputs": [
    {
     "name": "stdout",
     "output_type": "stream",
     "text": [
      "You wanna move L2 z:-0.025mm, Rx:175arcsec, Ry:0arcsec ?\n",
      "Hahaha.. you fuckin Move actuator1: -0.182mm, actuator2: 0.118mm, actuator3: -0.011mm \n"
     ]
    }
   ],
   "source": [
    "L2_as2actuator_kirikawa2(-0.025,175,0,4.5)"
   ]
  },
  {
   "cell_type": "code",
   "execution_count": 14,
   "metadata": {},
   "outputs": [
    {
     "name": "stdout",
     "output_type": "stream",
     "text": [
      "You wanna move L2 z:-0.025mm, Rx:-425arcsec, Ry:0arcsec ?\n",
      "Hahaha.. you fuckin Move actuator1: 0.356mm, actuator2: -0.373mm, actuator3: -0.058mm \n"
     ]
    }
   ],
   "source": [
    "L2_as2actuator_kirikawa2(-0.025,-425,0,4.5)"
   ]
  },
  {
   "cell_type": "code",
   "execution_count": 15,
   "metadata": {},
   "outputs": [
    {
     "name": "stdout",
     "output_type": "stream",
     "text": [
      "You wanna move L2 z:-0.025mm, Rx:-125arcsec, Ry:0arcsec ?\n",
      "Hahaha.. you fuckin Move actuator1: 0.087mm, actuator2: -0.127mm, actuator3: -0.035mm \n"
     ]
    }
   ],
   "source": [
    "L2_as2actuator_kirikawa2(-0.025,-125,0,4.5)"
   ]
  },
  {
   "cell_type": "code",
   "execution_count": 16,
   "metadata": {},
   "outputs": [
    {
     "name": "stdout",
     "output_type": "stream",
     "text": [
      "You wanna move L2 z:-0.05mm, Rx:-100arcsec, Ry:0arcsec ?\n",
      "Hahaha.. you fuckin Move actuator1: 0.040mm, actuator2: -0.132mm, actuator3: -0.058mm \n"
     ]
    }
   ],
   "source": [
    "L2_as2actuator_kirikawa2(-0.05,-100,0,4.5)"
   ]
  },
  {
   "cell_type": "code",
   "execution_count": 17,
   "metadata": {},
   "outputs": [
    {
     "name": "stdout",
     "output_type": "stream",
     "text": [
      "You wanna move L2 z:-0.0mm, Rx:0arcsec, Ry:300arcsec ?\n",
      "Hahaha.. you fuckin Move actuator1: 0.128mm, actuator2: 0.169mm, actuator3: -0.297mm \n"
     ]
    }
   ],
   "source": [
    "L2_as2actuator_kirikawa2(-0.0,0,300,4.5)"
   ]
  },
  {
   "cell_type": "code",
   "execution_count": 18,
   "metadata": {},
   "outputs": [
    {
     "name": "stdout",
     "output_type": "stream",
     "text": [
      "You wanna move L2 z:-0.0mm, Rx:0arcsec, Ry:800arcsec ?\n",
      "Hahaha.. you fuckin Move actuator1: 0.342mm, actuator2: 0.450mm, actuator3: -0.793mm \n"
     ]
    }
   ],
   "source": [
    "L2_as2actuator_kirikawa2(-0.0,0,800,4.5)"
   ]
  },
  {
   "cell_type": "code",
   "execution_count": 19,
   "metadata": {},
   "outputs": [
    {
     "name": "stdout",
     "output_type": "stream",
     "text": [
      "You wanna move L2 z:0mm, Rx:0arcsec, Ry:-100arcsec ?\n",
      "Hahaha.. you fuckin Move actuator1: -0.043mm, actuator2: -0.056mm, actuator3: 0.099mm \n"
     ]
    }
   ],
   "source": [
    "# 2020/10/20 Presetに一旦戻す。\n",
    "L2_as2actuator_kirikawa2(0,0,-100,4.5)"
   ]
  },
  {
   "cell_type": "code",
   "execution_count": 20,
   "metadata": {},
   "outputs": [
    {
     "name": "stdout",
     "output_type": "stream",
     "text": [
      "You wanna move L2 z:0mm, Rx:0arcsec, Ry:-50arcsec ?\n",
      "Hahaha.. you fuckin Move actuator1: -0.021mm, actuator2: -0.028mm, actuator3: 0.050mm \n"
     ]
    }
   ],
   "source": [
    "L2_as2actuator_kirikawa2(0,0,-50,4.5)"
   ]
  },
  {
   "cell_type": "code",
   "execution_count": 21,
   "metadata": {},
   "outputs": [
    {
     "name": "stdout",
     "output_type": "stream",
     "text": [
      "You wanna move L2 z:0mm, Rx:0arcsec, Ry:100arcsec ?\n",
      "Hahaha.. you fuckin Move actuator1: 0.043mm, actuator2: 0.056mm, actuator3: -0.099mm \n"
     ]
    }
   ],
   "source": [
    "L2_as2actuator_kirikawa2(0,0,100,4.5)"
   ]
  },
  {
   "cell_type": "code",
   "execution_count": 22,
   "metadata": {},
   "outputs": [
    {
     "name": "stdout",
     "output_type": "stream",
     "text": [
      "You wanna move L2 z:0mm, Rx:100arcsec, Ry:150arcsec ?\n",
      "Hahaha.. you fuckin Move actuator1: -0.026mm, actuator2: 0.166mm, actuator3: -0.141mm \n"
     ]
    }
   ],
   "source": [
    "L2_as2actuator_kirikawa2(0,100,150,4.5)"
   ]
  },
  {
   "cell_type": "code",
   "execution_count": 23,
   "metadata": {},
   "outputs": [
    {
     "name": "stdout",
     "output_type": "stream",
     "text": [
      "You wanna move L2 z:0mm, Rx:-100arcsec, Ry:-100arcsec ?\n",
      "Hahaha.. you fuckin Move actuator1: 0.047mm, actuator2: -0.138mm, actuator3: 0.091mm \n"
     ]
    }
   ],
   "source": [
    "L2_as2actuator_kirikawa2(0,-100,-100,4.5)"
   ]
  },
  {
   "cell_type": "code",
   "execution_count": 24,
   "metadata": {},
   "outputs": [
    {
     "name": "stdout",
     "output_type": "stream",
     "text": [
      "You wanna move L2 z:0mm, Rx:-200arcsec, Ry:-100arcsec ?\n",
      "Hahaha.. you fuckin Move actuator1: 0.137mm, actuator2: -0.220mm, actuator3: 0.083mm \n"
     ]
    }
   ],
   "source": [
    "L2_as2actuator_kirikawa2(0,-200,-100,4.5)"
   ]
  },
  {
   "cell_type": "code",
   "execution_count": 25,
   "metadata": {},
   "outputs": [
    {
     "name": "stdout",
     "output_type": "stream",
     "text": [
      "You wanna move L2 z:0mm, Rx:300arcsec, Ry:-100arcsec ?\n",
      "Hahaha.. you fuckin Move actuator1: -0.312mm, actuator2: 0.189mm, actuator3: 0.122mm \n"
     ]
    }
   ],
   "source": [
    "L2_as2actuator_kirikawa2(0,300,-100,4.5)"
   ]
  },
  {
   "cell_type": "code",
   "execution_count": 26,
   "metadata": {},
   "outputs": [
    {
     "name": "stdout",
     "output_type": "stream",
     "text": [
      "You wanna move L2 z:0mm, Rx:100arcsec, Ry:-100arcsec ?\n",
      "Hahaha.. you fuckin Move actuator1: -0.132mm, actuator2: 0.026mm, actuator3: 0.107mm \n"
     ]
    }
   ],
   "source": [
    "L2_as2actuator_kirikawa2(0,100,-100,4.5)"
   ]
  },
  {
   "cell_type": "code",
   "execution_count": 27,
   "metadata": {},
   "outputs": [
    {
     "name": "stdout",
     "output_type": "stream",
     "text": [
      "You wanna move L2 z:0mm, Rx:50arcsec, Ry:-200arcsec ?\n",
      "Hahaha.. you fuckin Move actuator1: -0.130mm, actuator2: -0.072mm, actuator3: 0.202mm \n"
     ]
    }
   ],
   "source": [
    "L2_as2actuator_kirikawa2(0,50,-200,4.5)"
   ]
  },
  {
   "cell_type": "code",
   "execution_count": 28,
   "metadata": {},
   "outputs": [
    {
     "name": "stdout",
     "output_type": "stream",
     "text": [
      "You wanna move L2 z:0mm, Rx:50arcsec, Ry:-150arcsec ?\n",
      "Hahaha.. you fuckin Move actuator1: -0.109mm, actuator2: -0.043mm, actuator3: 0.153mm \n"
     ]
    }
   ],
   "source": [
    "L2_as2actuator_kirikawa2(0,50,-150,4.5)"
   ]
  },
  {
   "cell_type": "code",
   "execution_count": 29,
   "metadata": {},
   "outputs": [
    {
     "name": "stdout",
     "output_type": "stream",
     "text": [
      "You wanna move L2 z:0mm, Rx:70arcsec, Ry:-150arcsec ?\n",
      "Hahaha.. you fuckin Move actuator1: -0.127mm, actuator2: -0.027mm, actuator3: 0.154mm \n"
     ]
    }
   ],
   "source": [
    "L2_as2actuator_kirikawa2(0,70,-150,4.5)"
   ]
  },
  {
   "cell_type": "code",
   "execution_count": 30,
   "metadata": {},
   "outputs": [
    {
     "name": "stdout",
     "output_type": "stream",
     "text": [
      "You wanna move L2 z:0mm, Rx:100arcsec, Ry:-150arcsec ?\n",
      "Hahaha.. you fuckin Move actuator1: -0.154mm, actuator2: -0.003mm, actuator3: 0.156mm \n"
     ]
    }
   ],
   "source": [
    "L2_as2actuator_kirikawa2(0,100,-150,4.5)"
   ]
  },
  {
   "cell_type": "code",
   "execution_count": 31,
   "metadata": {},
   "outputs": [
    {
     "name": "stdout",
     "output_type": "stream",
     "text": [
      "You wanna move L2 z:0mm, Rx:200arcsec, Ry:-150arcsec ?\n",
      "Hahaha.. you fuckin Move actuator1: -0.244mm, actuator2: 0.079mm, actuator3: 0.164mm \n"
     ]
    }
   ],
   "source": [
    "L2_as2actuator_kirikawa2(0,200,-150,4.5)"
   ]
  },
  {
   "cell_type": "code",
   "execution_count": 32,
   "metadata": {},
   "outputs": [
    {
     "name": "stdout",
     "output_type": "stream",
     "text": [
      "You wanna move L2 z:0mm, Rx:-50arcsec, Ry:-150arcsec ?\n",
      "Hahaha.. you fuckin Move actuator1: -0.019mm, actuator2: -0.125mm, actuator3: 0.145mm \n"
     ]
    }
   ],
   "source": [
    "L2_as2actuator_kirikawa2(0,-50,-150,4.5)"
   ]
  },
  {
   "cell_type": "code",
   "execution_count": 33,
   "metadata": {},
   "outputs": [
    {
     "name": "stdout",
     "output_type": "stream",
     "text": [
      "You wanna move L2 z:0mm, Rx:-50arcsec, Ry:150arcsec ?\n",
      "Hahaha.. you fuckin Move actuator1: 0.109mm, actuator2: 0.043mm, actuator3: -0.153mm \n"
     ]
    }
   ],
   "source": [
    "L2_as2actuator_kirikawa2(0,-50,+150,4.5)"
   ]
  },
  {
   "cell_type": "code",
   "execution_count": 34,
   "metadata": {},
   "outputs": [
    {
     "name": "stdout",
     "output_type": "stream",
     "text": [
      "You wanna move L2 z:0mm, Rx:-50arcsec, Ry:100arcsec ?\n",
      "Hahaha.. you fuckin Move actuator1: 0.088mm, actuator2: 0.015mm, actuator3: -0.103mm \n"
     ]
    }
   ],
   "source": [
    "L2_as2actuator_kirikawa2(0,-50,+100,4.5)"
   ]
  },
  {
   "cell_type": "code",
   "execution_count": 35,
   "metadata": {},
   "outputs": [
    {
     "name": "stdout",
     "output_type": "stream",
     "text": [
      "You wanna move L2 z:0mm, Rx:-50arcsec, Ry:200arcsec ?\n",
      "Hahaha.. you fuckin Move actuator1: 0.130mm, actuator2: 0.072mm, actuator3: -0.202mm \n"
     ]
    }
   ],
   "source": [
    "L2_as2actuator_kirikawa2(0,-50,+200,4.5)"
   ]
  },
  {
   "cell_type": "code",
   "execution_count": 36,
   "metadata": {},
   "outputs": [
    {
     "name": "stdout",
     "output_type": "stream",
     "text": [
      "You wanna move L2 z:0mm, Rx:-50arcsec, Ry:300arcsec ?\n",
      "Hahaha.. you fuckin Move actuator1: 0.173mm, actuator2: 0.128mm, actuator3: -0.301mm \n"
     ]
    }
   ],
   "source": [
    "L2_as2actuator_kirikawa2(0,-50,+300,4.5)"
   ]
  },
  {
   "cell_type": "code",
   "execution_count": 37,
   "metadata": {},
   "outputs": [
    {
     "name": "stdout",
     "output_type": "stream",
     "text": [
      "You wanna move L2 z:0mm, Rx:-50arcsec, Ry:-50arcsec ?\n",
      "Hahaha.. you fuckin Move actuator1: 0.023mm, actuator2: -0.069mm, actuator3: 0.046mm \n"
     ]
    }
   ],
   "source": [
    "L2_as2actuator_kirikawa2(0,-50,-50,4.5)"
   ]
  },
  {
   "cell_type": "code",
   "execution_count": 38,
   "metadata": {},
   "outputs": [
    {
     "name": "stdout",
     "output_type": "stream",
     "text": [
      "You wanna move L2 z:0mm, Rx:-50arcsec, Ry:-100arcsec ?\n",
      "Hahaha.. you fuckin Move actuator1: 0.002mm, actuator2: -0.097mm, actuator3: 0.095mm \n"
     ]
    }
   ],
   "source": [
    "L2_as2actuator_kirikawa2(0,-50,-100,4.5)"
   ]
  },
  {
   "cell_type": "code",
   "execution_count": 39,
   "metadata": {},
   "outputs": [
    {
     "name": "stdout",
     "output_type": "stream",
     "text": [
      "You wanna move L2 z:0mm, Rx:-50arcsec, Ry:-75arcsec ?\n",
      "Hahaha.. you fuckin Move actuator1: 0.013mm, actuator2: -0.083mm, actuator3: 0.070mm \n"
     ]
    }
   ],
   "source": [
    "L2_as2actuator_kirikawa2(0,-50,-75,4.5)"
   ]
  },
  {
   "cell_type": "code",
   "execution_count": 40,
   "metadata": {},
   "outputs": [
    {
     "name": "stdout",
     "output_type": "stream",
     "text": [
      "You wanna move L2 z:0mm, Rx:25arcsec, Ry:-125arcsec ?\n",
      "Hahaha.. you fuckin Move actuator1: -0.076mm, actuator2: -0.050mm, actuator3: 0.126mm \n"
     ]
    }
   ],
   "source": [
    "L2_as2actuator_kirikawa2(0,25,-125,4.5)"
   ]
  },
  {
   "cell_type": "code",
   "execution_count": 41,
   "metadata": {},
   "outputs": [
    {
     "name": "stdout",
     "output_type": "stream",
     "text": [
      "You wanna move L2 z:0mm, Rx:-50arcsec, Ry:-75arcsec ?\n",
      "Hahaha.. you fuckin Move actuator1: 0.013mm, actuator2: -0.083mm, actuator3: 0.070mm \n"
     ]
    }
   ],
   "source": [
    "L2_as2actuator_kirikawa2(0,-50,-75,4.5)"
   ]
  },
  {
   "cell_type": "code",
   "execution_count": null,
   "metadata": {},
   "outputs": [],
   "source": []
  }
 ],
 "metadata": {
  "kernelspec": {
   "display_name": "Python 3",
   "language": "python",
   "name": "python3"
  },
  "language_info": {
   "codemirror_mode": {
    "name": "ipython",
    "version": 3
   },
   "file_extension": ".py",
   "mimetype": "text/x-python",
   "name": "python",
   "nbconvert_exporter": "python",
   "pygments_lexer": "ipython3",
   "version": "3.6.8"
  },
  "toc": {
   "base_numbering": 1,
   "nav_menu": {},
   "number_sections": true,
   "sideBar": true,
   "skip_h1_title": false,
   "title_cell": "Table of Contents",
   "title_sidebar": "Contents",
   "toc_cell": false,
   "toc_position": {},
   "toc_section_display": true,
   "toc_window_display": false
  }
 },
 "nbformat": 4,
 "nbformat_minor": 4
}
