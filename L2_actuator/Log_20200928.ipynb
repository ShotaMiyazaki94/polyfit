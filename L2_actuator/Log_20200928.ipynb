{
 "cells": [
  {
   "cell_type": "code",
   "execution_count": 2,
   "metadata": {},
   "outputs": [],
   "source": [
    "import numpy as np"
   ]
  },
  {
   "cell_type": "code",
   "execution_count": 27,
   "metadata": {
    "code_folding": [
     0,
     13
    ]
   },
   "outputs": [],
   "source": [
    "def L2_as2actuator(z_mm, Rx_as, Ry_as, A1theta_deg = 0):\n",
    "    R=205.# mm\n",
    "    Rx_rad = np.radians(Rx_as/3600)\n",
    "    Ry_rad = np.radians(Ry_as/3600)\n",
    "    #R_size = np.sqrt(Rx_rad**2+Ry_rad**2)\n",
    "    #Rx_rad = R_size*np.cos(np.radians(A1theta_deg))\n",
    "    #Ry_rad = R_size*np.sin(np.radians(A1theta_deg))\n",
    "    A1=z_mm - R*np.tan(Ry_rad)\n",
    "    A2=z_mm + R/2*(np.tan(Ry_rad) - np.sqrt(3)*np.tan(Rx_rad))\n",
    "    A3=z_mm + R/2*(np.tan(Ry_rad) + np.sqrt(3)*np.tan(Rx_rad))\n",
    "    print('You wanna move L2 z:{0}mm, Rx:{1}arcsec, Ry:{2}arcsec ?'.format(z_mm, Rx_as, Ry_as))\n",
    "    print('Hahaha.. you fuckin Move actuator1: {0:.4f}mm, actuator2: {1:.4f}mm, actuator3: {2:.4f}mm '.format(A1,A2,A3))\n",
    "    return A1,A2,A3\n",
    "def L2_as2actuator_kirikawa(z_mm, Rx_as, Ry_as, A1theta_deg):\n",
    "    R=205.# mm\n",
    "    Rx_rad = np.radians(Rx_as/3600)\n",
    "    Ry_rad = np.radians(Ry_as/3600)\n",
    "    x_A3 = R*np.cos(np.radians(A1theta_deg))\n",
    "    y_A3 = R*np.sin(np.radians(A1theta_deg))\n",
    "    #A1=z_mm + ((- x_A1*np.sin(Ry_rad) + y_A1*np.sin(Rx_rad)*np.cos(Ry_rad))/np.cos(Ry_rad))\n",
    "    #A1=z_mm + ((- x_A1*np.sin(Ry_rad) + y_A1*np.sin(Rx_rad)*np.cos(Ry_rad))/(np.cos(Rx_rad)*np.cos(Ry_rad)))\n",
    "    x_A1 = R*np.cos(np.radians(240 + A1theta_deg))\n",
    "    y_A1 = R*np.sin(np.radians(240 + A1theta_deg))\n",
    "    #A2=z_mm + ((- x_A2*np.sin(Ry_rad) + y_A2*np.sin(Rx_rad)*np.cos(Ry_rad))/(np.cos(Rx_rad)*np.cos(Ry_rad)))\n",
    "    x_A2 = R*np.cos(np.radians(120 + A1theta_deg))\n",
    "    y_A2 = R*np.sin(np.radians(120 + A1theta_deg))\n",
    "    A1=z_mm + ((- x_A1*np.sin(Ry_rad) + y_A1*np.sin(Rx_rad)*np.cos(Ry_rad))/(np.cos(Rx_rad)*np.cos(Ry_rad)))\n",
    "    A2=z_mm + ((- x_A2*np.sin(Ry_rad) + y_A2*np.sin(Rx_rad)*np.cos(Ry_rad))/(np.cos(Rx_rad)*np.cos(Ry_rad)))\n",
    "    A3=z_mm + ((- x_A3*np.sin(Ry_rad) + y_A3*np.sin(Rx_rad)*np.cos(Ry_rad))/(np.cos(Rx_rad)*np.cos(Ry_rad)))\n",
    "    print('You wanna move L2 z:{0}mm, Rx:{1}arcsec, Ry:{2}arcsec ?'.format(z_mm, Rx_as, Ry_as))\n",
    "    print('Hahaha.. you fuckin Move actuator1: {0:.4f}mm, actuator2: {1:.4f}mm, actuator3: {2:.4f}mm '.format(-A1,-A2,-A3))\n",
    "    return A1,A2,A3\n",
    "def L2_as2actuator_kirikawa2(z_mm, Rx_as, Ry_as, A1theta_deg):\n",
    "    R=205.# mm\n",
    "    Rx_rad = np.radians(Rx_as/3600)\n",
    "    Ry_rad = np.radians(Ry_as/3600)\n",
    "    x_A3 = R*np.cos(np.radians(A1theta_deg))\n",
    "    y_A3 = R*np.sin(np.radians(A1theta_deg))\n",
    "    #A1=z_mm + ((- x_A1*np.sin(Ry_rad) + y_A1*np.sin(Rx_rad)*np.cos(Ry_rad))/np.cos(Ry_rad))\n",
    "    #A1=z_mm + ((- x_A1*np.cos(Rx_rad)*np.sin(Ry_rad) + y_A1*np.sin(Rx_rad))/(np.cos(Rx_rad)*np.cos(Ry_rad)))\n",
    "    x_A1 = R*np.cos(np.radians(240 + A1theta_deg))\n",
    "    y_A1 = R*np.sin(np.radians(240 + A1theta_deg))\n",
    "    #A2=z_mm + ((- x_A2*np.cos(Rx_rad)*np.sin(Ry_rad) + y_A2*np.sin(Rx_rad))/(np.cos(Rx_rad)*np.cos(Ry_rad)))\n",
    "    x_A2 = R*np.cos(np.radians(120 + A1theta_deg))\n",
    "    y_A2 = R*np.sin(np.radians(120 + A1theta_deg))\n",
    "    A1=z_mm + ((- x_A1*np.cos(Rx_rad)*np.sin(Ry_rad) + y_A1*np.sin(Rx_rad))/(np.cos(Rx_rad)*np.cos(Ry_rad)))\n",
    "    A2=z_mm + ((- x_A2*np.cos(Rx_rad)*np.sin(Ry_rad) + y_A2*np.sin(Rx_rad))/(np.cos(Rx_rad)*np.cos(Ry_rad)))\n",
    "    A3=z_mm + ((- x_A3*np.cos(Rx_rad)*np.sin(Ry_rad) + y_A3*np.sin(Rx_rad))/(np.cos(Rx_rad)*np.cos(Ry_rad)))\n",
    "    print('You wanna move L2 z:{0}mm, Rx:{1}arcsec, Ry:{2}arcsec ?'.format(z_mm, Rx_as, Ry_as))\n",
    "    print('Hahaha.. you fuckin Move actuator1: {0:.3f}mm, actuator2: {1:.3f}mm, actuator3: {2:.3f}mm '.format(A1,A2,A3))\n",
    "    #return A1,A2,A3"
   ]
  },
  {
   "cell_type": "markdown",
   "metadata": {},
   "source": [
    "# note\n",
    "#### A3をx軸方向(+4.5度)とし、鏡の方向をz軸方向とする。\n",
    "#### 得られる値は空の方向を正としたactuatorの移動量。"
   ]
  },
  {
   "cell_type": "code",
   "execution_count": 14,
   "metadata": {
    "scrolled": false
   },
   "outputs": [
    {
     "name": "stdout",
     "output_type": "stream",
     "text": [
      "You wanna move L2 z:0mm, Rx:60arcsec, Ry:60arcsec ?\n",
      "Hahaha.. you fuckin Move actuator1: -0.0596mm, actuator2: -0.0218mm, actuator3: 0.0815mm \n",
      "You wanna move L2 z:-0.2187mm, Rx:0arcsec, Ry:440arcsec ?\n",
      "Hahaha.. you fuckin Move actuator1: 0.0000mm, actuator2: 0.0000mm, actuator3: 0.6560mm \n",
      "\n",
      "\n",
      "You wanna move L2 z:-0.1883mm, Rx:0arcsec, Ry:440arcsec ?\n",
      "Hahaha.. you fuckin Move actuator1: 0.0000mm, actuator2: -0.0594mm, actuator3: 0.6243mm \n",
      "You wanna move L2 z:-0.1883mm, Rx:0arcsec, Ry:440arcsec ?\n",
      "Hahaha.. you fuckin Move actuator1: -0.0000mm, actuator2: 0.0594mm, actuator3: -0.6243mm \n"
     ]
    }
   ],
   "source": [
    "L2_as2actuator(0,60,60) #幾何学的に解いた時の値(A1theta_deg=0の時のみ有効)\n",
    "L2_as2actuator_kirikawa(-0.2187,0,440,0) #A1theta_deg=0の場合(for confirmation)\n",
    "print(\"\\n\")\n",
    "L2_as2actuator_kirikawa(-0.1883,0,440,4.5) #左手則(右手則？)\n",
    "L2_as2actuator_kirikawa2(-0.1883,0,440,4.5) #右手則(左手則？)"
   ]
  },
  {
   "cell_type": "markdown",
   "metadata": {},
   "source": [
    "# 2020/09/28 04:10"
   ]
  },
  {
   "cell_type": "code",
   "execution_count": 15,
   "metadata": {},
   "outputs": [
    {
     "name": "stdout",
     "output_type": "stream",
     "text": [
      "You wanna move L2 z:0mm, Rx:-222.363arcsec, Ry:105.93arcsec ?\n",
      "Hahaha.. you fuckin Move actuator1: 0.2448mm, actuator2: -0.1225mm, actuator3: -0.1223mm \n"
     ]
    }
   ],
   "source": [
    "L2_as2actuator_kirikawa2(0,-222.363,+105.93,4.5) #右手則(左手則？)"
   ]
  },
  {
   "cell_type": "markdown",
   "metadata": {},
   "source": [
    "# 2020/09/28 04:20\n",
    "山脇の値、変更。画像は一緒。"
   ]
  },
  {
   "cell_type": "code",
   "execution_count": 16,
   "metadata": {},
   "outputs": [
    {
     "name": "stdout",
     "output_type": "stream",
     "text": [
      "You wanna move L2 z:0mm, Rx:-248.603arcsec, Ry:191.021arcsec ?\n",
      "Hahaha.. you fuckin Move actuator1: 0.3047mm, actuator2: -0.0961mm, actuator3: -0.2087mm \n"
     ]
    }
   ],
   "source": [
    "L2_as2actuator_kirikawa2(0,-248.603,+191.021,4.5) #右手則(左手則？)"
   ]
  },
  {
   "cell_type": "markdown",
   "metadata": {},
   "source": [
    "# 2020/09/28 04:33\n",
    "seeingをミスってた。(2.5->3)\n",
    "binningをミスってた。"
   ]
  },
  {
   "cell_type": "code",
   "execution_count": 17,
   "metadata": {},
   "outputs": [
    {
     "name": "stdout",
     "output_type": "stream",
     "text": [
      "You wanna move L2 z:0mm, Rx:-536.925arcsec, Ry:183.302arcsec ?\n",
      "Hahaha.. you fuckin Move actuator1: 0.5601mm, actuator2: -0.3366mm, actuator3: -0.2235mm \n"
     ]
    }
   ],
   "source": [
    "L2_as2actuator_kirikawa2(0,-536.925,+183.302,4.5) #右手則(左手則？)"
   ]
  },
  {
   "cell_type": "markdown",
   "metadata": {},
   "source": [
    "# 2020/09/28 04:40~\n",
    "観測画像を回転させてフィッティングするのですが、その補正の方向を間違えておりました。"
   ]
  },
  {
   "cell_type": "code",
   "execution_count": 18,
   "metadata": {},
   "outputs": [
    {
     "name": "stdout",
     "output_type": "stream",
     "text": [
      "You wanna move L2 z:0mm, Rx:-588.167arcsec, Ry:-192.88arcsec ?\n",
      "Hahaha.. you fuckin Move actuator1: 0.4451mm, actuator2: -0.5903mm, actuator3: 0.1452mm \n"
     ]
    }
   ],
   "source": [
    "L2_as2actuator_kirikawa2(0,-588.167,-192.880,4.5) #右手則(左手則？)"
   ]
  },
  {
   "cell_type": "markdown",
   "metadata": {},
   "source": [
    "# 2020/9/28"
   ]
  },
  {
   "cell_type": "code",
   "execution_count": 19,
   "metadata": {},
   "outputs": [
    {
     "name": "stdout",
     "output_type": "stream",
     "text": [
      "You wanna move L2 z:0mm, Rx:-1246.254arcsec, Ry:-229.22199999999998arcsec ?\n",
      "Hahaha.. you fuckin Move actuator1: 1.0199mm, actuator2: -1.1498mm, actuator3: 0.1299mm \n"
     ]
    }
   ],
   "source": [
    "movex = -588.167-658.087\n",
    "movey = -192.88-36.342\n",
    "\n",
    "L2_as2actuator_kirikawa2(0,movex,movey,4.5) #右手則(左手則？)"
   ]
  },
  {
   "cell_type": "markdown",
   "metadata": {},
   "source": [
    "# 2020/09/28 18:15\n"
   ]
  },
  {
   "cell_type": "code",
   "execution_count": 20,
   "metadata": {},
   "outputs": [
    {
     "name": "stdout",
     "output_type": "stream",
     "text": [
      "You wanna move L2 z:0mm, Rx:-1055.759arcsec, Ry:-269.98199999999997arcsec ?\n",
      "Hahaha.. you fuckin Move actuator1: 0.8316mm, actuator2: -1.0167mm, actuator3: 0.1852mm \n"
     ]
    }
   ],
   "source": [
    "L2_as2actuator_kirikawa2(0,-588.167-467.592,-192.880-77.102,4.5) #右手則(左手則？)"
   ]
  },
  {
   "cell_type": "markdown",
   "metadata": {},
   "source": [
    "# 18:30~\n",
    "リセット"
   ]
  },
  {
   "cell_type": "code",
   "execution_count": 21,
   "metadata": {},
   "outputs": [
    {
     "name": "stdout",
     "output_type": "stream",
     "text": [
      "You wanna move L2 z:0mm, Rx:-476.816arcsec, Ry:-64.058arcsec ?\n",
      "Hahaha.. you fuckin Move actuator1: 0.4003mm, actuator2: -0.4266mm, actuator3: 0.0263mm \n"
     ]
    }
   ],
   "source": [
    "L2_as2actuator_kirikawa2(0,-476.816,-64.058,4.5) #右手則(左手則？)"
   ]
  },
  {
   "cell_type": "code",
   "execution_count": 22,
   "metadata": {},
   "outputs": [
    {
     "name": "stdout",
     "output_type": "stream",
     "text": [
      "You wanna move L2 z:0mm, Rx:-803.03arcsec, Ry:-200.212arcsec ?\n",
      "Hahaha.. you fuckin Move actuator1: 0.6347mm, actuator2: -0.7704mm, actuator3: 0.1358mm \n"
     ]
    }
   ],
   "source": [
    "L2_as2actuator_kirikawa2(0,-476.816-326.214,-64.058-136.154,4.5) #右手則(左手則？)"
   ]
  },
  {
   "cell_type": "code",
   "execution_count": 28,
   "metadata": {},
   "outputs": [
    {
     "name": "stdout",
     "output_type": "stream",
     "text": [
      "You wanna move L2 z:0mm, Rx:196.97000000000003arcsec, Ry:-200.212arcsec ?\n",
      "Hahaha.. you fuckin Move actuator1: -0.262mm, actuator2: 0.049mm, actuator3: 0.214mm \n"
     ]
    }
   ],
   "source": [
    "# ここからはお試し\n",
    "L2_as2actuator_kirikawa2(0,-803.03+1000,-200.212,4.5) #右手則(左手則？)"
   ]
  },
  {
   "cell_type": "code",
   "execution_count": 29,
   "metadata": {
    "scrolled": true
   },
   "outputs": [
    {
     "name": "stdout",
     "output_type": "stream",
     "text": [
      "You wanna move L2 z:0mm, Rx:196.97arcsec, Ry:799.788arcsec ?\n",
      "Hahaha.. you fuckin Move actuator1: 0.166mm, actuator2: 0.612mm, actuator3: -0.777mm \n"
     ]
    }
   ],
   "source": [
    "L2_as2actuator_kirikawa2(0,196.97,-200.212+1000,4.5)"
   ]
  },
  {
   "cell_type": "markdown",
   "metadata": {},
   "source": [
    "# 目で見たベスト　19:45"
   ]
  },
  {
   "cell_type": "code",
   "execution_count": 36,
   "metadata": {},
   "outputs": [
    {
     "name": "stdout",
     "output_type": "stream",
     "text": [
      "You wanna move L2 z:0mm, Rx:196.97arcsec, Ry:499.788arcsec ?\n",
      "Hahaha.. you fuckin Move actuator1: 0.037mm, actuator2: 0.443mm, actuator3: -0.480mm \n"
     ]
    }
   ],
   "source": [
    "L2_as2actuator_kirikawa2(0,196.97,-200.212+700,4.5)"
   ]
  },
  {
   "cell_type": "markdown",
   "metadata": {},
   "source": [
    "こっからは勘"
   ]
  },
  {
   "cell_type": "code",
   "execution_count": 40,
   "metadata": {},
   "outputs": [
    {
     "name": "stdout",
     "output_type": "stream",
     "text": [
      "You wanna move L2 z:0mm, Rx:-200arcsec, Ry:499.788arcsec ?\n",
      "Hahaha.. you fuckin Move actuator1: 0.393mm, actuator2: 0.118mm, actuator3: -0.511mm \n"
     ]
    }
   ],
   "source": [
    "L2_as2actuator_kirikawa2(0,-200,-200.212+700,4.5)"
   ]
  },
  {
   "cell_type": "markdown",
   "metadata": {},
   "source": [
    "# tiltを直した後　23:59~"
   ]
  },
  {
   "cell_type": "code",
   "execution_count": 41,
   "metadata": {},
   "outputs": [
    {
     "name": "stdout",
     "output_type": "stream",
     "text": [
      "You wanna move L2 z:0mm, Rx:-400arcsec, Ry:499.788arcsec ?\n",
      "Hahaha.. you fuckin Move actuator1: 0.573mm, actuator2: -0.046mm, actuator3: -0.526mm \n"
     ]
    }
   ],
   "source": [
    "L2_as2actuator_kirikawa2(0,-200-200,-200.212+700,4.5)"
   ]
  },
  {
   "cell_type": "code",
   "execution_count": 42,
   "metadata": {},
   "outputs": [
    {
     "name": "stdout",
     "output_type": "stream",
     "text": [
      "You wanna move L2 z:0mm, Rx:-500arcsec, Ry:499.788arcsec ?\n",
      "Hahaha.. you fuckin Move actuator1: 0.662mm, actuator2: -0.128mm, actuator3: -0.534mm \n"
     ]
    }
   ],
   "source": [
    "L2_as2actuator_kirikawa2(0,-400-100,-200.212+700,4.5)"
   ]
  },
  {
   "cell_type": "code",
   "execution_count": null,
   "metadata": {},
   "outputs": [],
   "source": []
  }
 ],
 "metadata": {
  "kernelspec": {
   "display_name": "Python 3",
   "language": "python",
   "name": "python3"
  },
  "language_info": {
   "codemirror_mode": {
    "name": "ipython",
    "version": 3
   },
   "file_extension": ".py",
   "mimetype": "text/x-python",
   "name": "python",
   "nbconvert_exporter": "python",
   "pygments_lexer": "ipython3",
   "version": "3.6.8"
  },
  "toc": {
   "base_numbering": 1,
   "nav_menu": {},
   "number_sections": true,
   "sideBar": true,
   "skip_h1_title": false,
   "title_cell": "Table of Contents",
   "title_sidebar": "Contents",
   "toc_cell": false,
   "toc_position": {},
   "toc_section_display": true,
   "toc_window_display": false
  }
 },
 "nbformat": 4,
 "nbformat_minor": 4
}
