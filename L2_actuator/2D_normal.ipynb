{
 "cells": [
  {
   "cell_type": "code",
   "execution_count": 130,
   "metadata": {},
   "outputs": [],
   "source": [
    "import numpy as np\n",
    "import scipy.integrate as sci\n",
    "import matplotlib.pyplot as plt"
   ]
  },
  {
   "cell_type": "code",
   "execution_count": 131,
   "metadata": {},
   "outputs": [],
   "source": [
    "class normal_2D(object):\n",
    "    def __init__(self, Ipeak, sigmax, sigmay):\n",
    "        #print(Ipeak, sigmax, sigmay)\n",
    "        self.__Ipeak = Ipeak\n",
    "        self.__sigmax = sigmax\n",
    "        self.__sigmay = sigmay\n",
    "    def value(self, x, y):\n",
    "        factor = self.__Ipeak/(2.*np.pi*self.__sigmax * self.__sigmay)\n",
    "        factorx = np.exp(-x**2/(2.*self.__sigmax**2))\n",
    "        factory = np.exp(-y**2/(2.*self.__sigmay**2))\n",
    "        return factor*factorx*factory\n",
    "        \n",
    "    def integral(self, xmin, xmax):\n",
    "        integration = sci.dblquad(self.value, xmin, xmax,lambda x: 0,lambda x:np.sqrt(xmax**2-x**2),\n",
    "                                  epsrel = 1e-12, epsabs = 0)\n",
    "        return integration\n",
    "    def distance(self, x, y):\n",
    "        factor = self.__Ipeak/(2.*np.pi*self.__sigmax * self.__sigmay)\n",
    "        factorx = np.exp(-x**2/(2.*self.__sigmax**2))\n",
    "        factory = np.exp(-y**2/(2.*self.__sigmay**2))\n",
    "        r = np.sqrt(x**2+y**2)\n",
    "        return factor*factorx*factory*r**2\n",
    "    def integral_distance(self, xmin, xmax):\n",
    "        integration = sci.dblquad(self.distance, xmin, xmax,lambda x: 0,lambda x:np.sqrt(xmax**2-x**2),\n",
    "                                  epsrel = 1e-12, epsabs = 0)\n",
    "        return integration\n",
    "    \n",
    "    def __call__(self, x, y):\n",
    "        return self.value(x, y)\n",
    "    \n",
    "class simple_normal():\n",
    "    def __init__(self,Ipeak,sigma):\n",
    "        self.__Ipeak = Ipeak\n",
    "        self.__sigma = sigma\n",
    "    def value(self,x):\n",
    "        factor  = self.__Ipeak/np.sqrt(2*np.pi*self.__sigma**2)\n",
    "        factor2 = np.exp(-x**2/(2*self.__sigma**2))\n",
    "        return factor*factor2\n",
    "    def integral(self, a, b):\n",
    "        integration = sci.quad(self.value, a, b, epsrel = 1e-12, epsabs = 0)\n",
    "        return integration\n",
    "    def integral_distance(self, a, b):\n",
    "        integration = sci.quad(self.value, a, b, epsrel = 1e-12, epsabs = 0)\n",
    "        return integration\n",
    "    def __call__(self, x):\n",
    "        return self.value(x)"
   ]
  },
  {
   "cell_type": "code",
   "execution_count": 132,
   "metadata": {
    "scrolled": true
   },
   "outputs": [
    {
     "name": "stdout",
     "output_type": "stream",
     "text": [
      "FWHM   :50.000%\n",
      "1sigma :39.347%\n",
      "ALL    :100.000%\n",
      "1sigma :0.180%\n",
      "FWHM   :0.307%\n",
      "ALL    :2.000%\n"
     ]
    }
   ],
   "source": [
    "sigmax = 0.1\n",
    "sigmay = 0.1\n",
    "I_peak = 1\n",
    "model = normal_2D(I_peak,sigmax,sigmay)\n",
    "#for i in np.arange(5):\n",
    "#    value = model.value(i,0)\n",
    "#    print(i,value)\n",
    "\"FWHM\"\n",
    "cont = model.integral(0,sigmax*np.sqrt(2*np.log(2)))\n",
    "print(\"FWHM   :{:.3f}%\".format(cont[0]*4*100))\n",
    "\"Sigma\"\n",
    "cont = model.integral(0,sigmax)\n",
    "print(\"1sigma :{:.3f}%\".format(cont[0]*4*100))\n",
    "cont = model.integral(0,1000)\n",
    "print(\"ALL    :{:.3f}%\".format(cont[0]*4*100))\n",
    "\n",
    "\n",
    "norm = model.integral_distance(0,1000)\n",
    "cont = model.integral_distance(0,sigmax)\n",
    "print(\"1sigma :{:.3f}%\".format(cont[0]*100*4))\n",
    "cont = model.integral_distance(0,sigmax*np.sqrt(2*np.log(2)))\n",
    "print(\"FWHM   :{:.3f}%\".format(cont[0]*100*4))\n",
    "cont = model.integral_distance(0,1000)\n",
    "print(\"ALL    :{:.3f}%\".format(cont[0]*100*4))"
   ]
  },
  {
   "cell_type": "code",
   "execution_count": 133,
   "metadata": {},
   "outputs": [
    {
     "name": "stdout",
     "output_type": "stream",
     "text": [
      "0.009973714728017134\n"
     ]
    }
   ],
   "source": [
    "mean = 0\n",
    "sdv  = 0.1\n",
    "x = np.random.normal(mean, sdv,100000)\n",
    "print(np.mean(np.abs(x**2)))"
   ]
  },
  {
   "cell_type": "code",
   "execution_count": 134,
   "metadata": {},
   "outputs": [
    {
     "data": {
      "image/png": "[encoded data removed]",
      "text/plain": [
       "<Figure size 432x288 with 1 Axes>"
      ]
     },
     "metadata": {},
     "output_type": "display_data"
    }
   ],
   "source": [
    "r_list=[]\n",
    "r2_list=[]\n",
    "for i in range(100):\n",
    "    mean = [0, 0]\n",
    "    cov = [[0.1*i, 0], [0, 0.1*i]]\n",
    "    x, y = np.random.multivariate_normal(mean, cov, 10000).T\n",
    "    #plt.plot(x, y, 'x')\n",
    "    #plt.axis('equal')\n",
    "    #plt.show()\n",
    "    r  = np.sqrt(x**2+y**2)\n",
    "    r2 = x**2+y**2\n",
    "    r_list.append(np.mean(r))\n",
    "    r2_list.append(np.mean(r2))\n",
    "x = np.arange(0,10,0.1)\n",
    "plt.plot(x,r_list,label=\"r\")\n",
    "plt.plot(x,r2_list,label=\"r2\")\n",
    "#plt.plot(x,x**(1/3))\n",
    "plt.plot(x,x**(0.5)*1.25)\n",
    "plt.plot(x,2*x)\n",
    "plt.legend()\n",
    "plt.show()"
   ]
  },
  {
   "cell_type": "code",
   "execution_count": 129,
   "metadata": {},
   "outputs": [],
   "source": [
    "# 1D normal distribution\n",
    "# 1sigma内の積分は68%\n",
    "# |r|の期待値はsigmaの0.8倍になる\n",
    "# r^2の期待値はsigma^2になる\n",
    "\n",
    "# 2D normal distribution\n",
    "# 1sigma内の積分は39%\n",
    "# FWHM内の積分は50%\n",
    "# |r|の期待値はsigmaの1.25倍になる\n",
    "# r^2の期待値はsigma^2の二倍になる"
   ]
  },
  {
   "cell_type": "code",
   "execution_count": null,
   "metadata": {},
   "outputs": [],
   "source": []
  }
 ],
 "metadata": {
  "kernelspec": {
   "display_name": "Python 3",
   "language": "python",
   "name": "python3"
  },
  "language_info": {
   "codemirror_mode": {
    "name": "ipython",
    "version": 3
   },
   "file_extension": ".py",
   "mimetype": "text/x-python",
   "name": "python",
   "nbconvert_exporter": "python",
   "pygments_lexer": "ipython3",
   "version": "3.6.8"
  },
  "toc": {
   "base_numbering": 1,
   "nav_menu": {},
   "number_sections": true,
   "sideBar": true,
   "skip_h1_title": false,
   "title_cell": "Table of Contents",
   "title_sidebar": "Contents",
   "toc_cell": false,
   "toc_position": {},
   "toc_section_display": true,
   "toc_window_display": false
  }
 },
 "nbformat": 4,
 "nbformat_minor": 2
}
