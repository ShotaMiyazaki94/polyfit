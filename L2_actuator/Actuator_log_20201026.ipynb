{
 "cells": [
  {
   "cell_type": "code",
   "execution_count": 1,
   "metadata": {
    "code_folding": [
     1,
     14,
     33
    ]
   },
   "outputs": [],
   "source": [
    "import numpy as np\n",
    "def L2_as2actuator(z_mm, Rx_as, Ry_as, A1theta_deg = 0):\n",
    "    R=205.# mm\n",
    "    Rx_rad = np.radians(Rx_as/3600)\n",
    "    Ry_rad = np.radians(Ry_as/3600)\n",
    "    #R_size = np.sqrt(Rx_rad**2+Ry_rad**2)\n",
    "    #Rx_rad = R_size*np.cos(np.radians(A1theta_deg))\n",
    "    #Ry_rad = R_size*np.sin(np.radians(A1theta_deg))\n",
    "    A1=z_mm - R*np.tan(Ry_rad)\n",
    "    A2=z_mm + R/2*(np.tan(Ry_rad) - np.sqrt(3)*np.tan(Rx_rad))\n",
    "    A3=z_mm + R/2*(np.tan(Ry_rad) + np.sqrt(3)*np.tan(Rx_rad))\n",
    "    print('You wanna move L2 z:{0}mm, Rx:{1}arcsec, Ry:{2}arcsec ?'.format(z_mm, Rx_as, Ry_as))\n",
    "    print('Hahaha.. you fuckin Move actuator1: {0:.4f}mm, actuator2: {1:.4f}mm, actuator3: {2:.4f}mm '.format(A1,A2,A3))\n",
    "    return A1,A2,A3\n",
    "def L2_as2actuator_kirikawa(z_mm, Rx_as, Ry_as, A1theta_deg):\n",
    "    R=205.# mm\n",
    "    Rx_rad = np.radians(Rx_as/3600)\n",
    "    Ry_rad = np.radians(Ry_as/3600)\n",
    "    x_A3 = R*np.cos(np.radians(A1theta_deg))\n",
    "    y_A3 = R*np.sin(np.radians(A1theta_deg))\n",
    "    #A1=z_mm + ((- x_A1*np.sin(Ry_rad) + y_A1*np.sin(Rx_rad)*np.cos(Ry_rad))/np.cos(Ry_rad))\n",
    "    #A1=z_mm + ((- x_A1*np.sin(Ry_rad) + y_A1*np.sin(Rx_rad)*np.cos(Ry_rad))/(np.cos(Rx_rad)*np.cos(Ry_rad)))\n",
    "    x_A1 = R*np.cos(np.radians(240 + A1theta_deg))\n",
    "    y_A1 = R*np.sin(np.radians(240 + A1theta_deg))\n",
    "    #A2=z_mm + ((- x_A2*np.sin(Ry_rad) + y_A2*np.sin(Rx_rad)*np.cos(Ry_rad))/(np.cos(Rx_rad)*np.cos(Ry_rad)))\n",
    "    x_A2 = R*np.cos(np.radians(120 + A1theta_deg))\n",
    "    y_A2 = R*np.sin(np.radians(120 + A1theta_deg))\n",
    "    A1=z_mm + ((- x_A1*np.sin(Ry_rad) + y_A1*np.sin(Rx_rad)*np.cos(Ry_rad))/(np.cos(Rx_rad)*np.cos(Ry_rad)))\n",
    "    A2=z_mm + ((- x_A2*np.sin(Ry_rad) + y_A2*np.sin(Rx_rad)*np.cos(Ry_rad))/(np.cos(Rx_rad)*np.cos(Ry_rad)))\n",
    "    A3=z_mm + ((- x_A3*np.sin(Ry_rad) + y_A3*np.sin(Rx_rad)*np.cos(Ry_rad))/(np.cos(Rx_rad)*np.cos(Ry_rad)))\n",
    "    print('You wanna move L2 z:{0}mm, Rx:{1}arcsec, Ry:{2}arcsec ?'.format(z_mm, Rx_as, Ry_as))\n",
    "    print('Hahaha.. you fuckin Move actuator1: {0:.4f}mm, actuator2: {1:.4f}mm, actuator3: {2:.4f}mm '.format(-A1,-A2,-A3))\n",
    "    return A1,A2,A3\n",
    "def L2_as2actuator_kirikawa2(z_mm, Rx_as, Ry_as, A1theta_deg):\n",
    "    R=205.# mm\n",
    "    Rx_rad = np.radians(Rx_as/3600)\n",
    "    Ry_rad = np.radians(Ry_as/3600)\n",
    "    x_A3 = R*np.cos(np.radians(A1theta_deg))\n",
    "    y_A3 = R*np.sin(np.radians(A1theta_deg))\n",
    "    #A1=z_mm + ((- x_A1*np.sin(Ry_rad) + y_A1*np.sin(Rx_rad)*np.cos(Ry_rad))/np.cos(Ry_rad))\n",
    "    #A1=z_mm + ((- x_A1*np.cos(Rx_rad)*np.sin(Ry_rad) + y_A1*np.sin(Rx_rad))/(np.cos(Rx_rad)*np.cos(Ry_rad)))\n",
    "    x_A1 = R*np.cos(np.radians(240 + A1theta_deg))\n",
    "    y_A1 = R*np.sin(np.radians(240 + A1theta_deg))\n",
    "    #A2=z_mm + ((- x_A2*np.cos(Rx_rad)*np.sin(Ry_rad) + y_A2*np.sin(Rx_rad))/(np.cos(Rx_rad)*np.cos(Ry_rad)))\n",
    "    x_A2 = R*np.cos(np.radians(120 + A1theta_deg))\n",
    "    y_A2 = R*np.sin(np.radians(120 + A1theta_deg))\n",
    "    A1=z_mm + ((- x_A1*np.cos(Rx_rad)*np.sin(Ry_rad) + y_A1*np.sin(Rx_rad))/(np.cos(Rx_rad)*np.cos(Ry_rad)))\n",
    "    A2=z_mm + ((- x_A2*np.cos(Rx_rad)*np.sin(Ry_rad) + y_A2*np.sin(Rx_rad))/(np.cos(Rx_rad)*np.cos(Ry_rad)))\n",
    "    A3=z_mm + ((- x_A3*np.cos(Rx_rad)*np.sin(Ry_rad) + y_A3*np.sin(Rx_rad))/(np.cos(Rx_rad)*np.cos(Ry_rad)))\n",
    "    print('You wanna move L2 z:{0}mm, Rx:{1}arcsec, Ry:{2}arcsec ?'.format(z_mm, Rx_as, Ry_as))\n",
    "    print('Hahaha.. you fuckin Move actuator1: {0:.3f}mm, actuator2: {1:.3f}mm, actuator3: {2:.3f}mm '.format(A1,A2,A3))"
   ]
  },
  {
   "cell_type": "markdown",
   "metadata": {},
   "source": [
    "#### Move log 2020/10/26"
   ]
  },
  {
   "cell_type": "code",
   "execution_count": 3,
   "metadata": {},
   "outputs": [
    {
     "name": "stdout",
     "output_type": "stream",
     "text": [
      "You wanna move L2 z:0mm, Rx:-50arcsec, Ry:-75arcsec ?\n",
      "Hahaha.. you fuckin Move actuator1: 0.013mm, actuator2: -0.083mm, actuator3: 0.070mm \n"
     ]
    }
   ],
   "source": [
    "L2_as2actuator_kirikawa2(0,-50,-75,4.5)"
   ]
  },
  {
   "cell_type": "code",
   "execution_count": 6,
   "metadata": {},
   "outputs": [
    {
     "name": "stdout",
     "output_type": "stream",
     "text": [
      "You wanna move L2 z:0mm, Rx:50arcsec, Ry:-125arcsec ?\n",
      "Hahaha.. you fuckin Move actuator1: -0.098mm, actuator2: -0.029mm, actuator3: 0.128mm \n"
     ]
    }
   ],
   "source": [
    "# 18:33~\n",
    "L2_as2actuator_kirikawa2(0,50,-125,4.5) "
   ]
  },
  {
   "cell_type": "code",
   "execution_count": 7,
   "metadata": {},
   "outputs": [
    {
     "name": "stdout",
     "output_type": "stream",
     "text": [
      "You wanna move L2 z:0mm, Rx:100arcsec, Ry:-125arcsec ?\n",
      "Hahaha.. you fuckin Move actuator1: -0.143mm, actuator2: 0.012mm, actuator3: 0.132mm \n"
     ]
    }
   ],
   "source": [
    "# 18:37~\n",
    "L2_as2actuator_kirikawa2(0,100,-125,4.5) "
   ]
  },
  {
   "cell_type": "code",
   "execution_count": 9,
   "metadata": {},
   "outputs": [
    {
     "name": "stdout",
     "output_type": "stream",
     "text": [
      "You wanna move L2 z:0mm, Rx:-100arcsec, Ry:-125arcsec ?\n",
      "Hahaha.. you fuckin Move actuator1: 0.036mm, actuator2: -0.152mm, actuator3: 0.116mm \n"
     ]
    }
   ],
   "source": [
    "# 23:32~ まずは大袈裟に方向を確かめる。\n",
    "L2_as2actuator_kirikawa2(0,-100,-125,4.5) "
   ]
  },
  {
   "cell_type": "code",
   "execution_count": 11,
   "metadata": {},
   "outputs": [
    {
     "name": "stdout",
     "output_type": "stream",
     "text": [
      "You wanna move L2 z:0mm, Rx:50arcsec, Ry:-125arcsec ?\n",
      "Hahaha.. you fuckin Move actuator1: -0.098mm, actuator2: -0.029mm, actuator3: 0.128mm \n"
     ]
    }
   ],
   "source": [
    "# 00:10~ \n",
    "L2_as2actuator_kirikawa2(0,50,-125,4.5) "
   ]
  },
  {
   "cell_type": "code",
   "execution_count": 12,
   "metadata": {},
   "outputs": [
    {
     "name": "stdout",
     "output_type": "stream",
     "text": [
      "You wanna move L2 z:0mm, Rx:80arcsec, Ry:-205arcsec ?\n",
      "Hahaha.. you fuckin Move actuator1: -0.159mm, actuator2: -0.050mm, actuator3: 0.209mm \n"
     ]
    }
   ],
   "source": [
    "# 01:27~ \n",
    "L2_as2actuator_kirikawa2(0,80,-205,4.5) "
   ]
  },
  {
   "cell_type": "code",
   "execution_count": 13,
   "metadata": {},
   "outputs": [
    {
     "name": "stdout",
     "output_type": "stream",
     "text": [
      "You wanna move L2 z:0mm, Rx:105arcsec, Ry:-205arcsec ?\n",
      "Hahaha.. you fuckin Move actuator1: -0.182mm, actuator2: -0.029mm, actuator3: 0.211mm \n"
     ]
    }
   ],
   "source": [
    "# 01:52~\n",
    "L2_as2actuator_kirikawa2(0,105,-205,4.5) "
   ]
  },
  {
   "cell_type": "code",
   "execution_count": 14,
   "metadata": {},
   "outputs": [
    {
     "name": "stdout",
     "output_type": "stream",
     "text": [
      "You wanna move L2 z:0mm, Rx:105arcsec, Ry:-55arcsec ?\n",
      "Hahaha.. you fuckin Move actuator1: -0.118mm, actuator2: 0.055mm, actuator3: 0.063mm \n"
     ]
    }
   ],
   "source": [
    "# 03:09~\n",
    "L2_as2actuator_kirikawa2(0,105,-55,4.5) "
   ]
  },
  {
   "cell_type": "code",
   "execution_count": 15,
   "metadata": {},
   "outputs": [
    {
     "name": "stdout",
     "output_type": "stream",
     "text": [
      "You wanna move L2 z:0mm, Rx:145arcsec, Ry:-55arcsec ?\n",
      "Hahaha.. you fuckin Move actuator1: -0.154mm, actuator2: 0.088mm, actuator3: 0.066mm \n"
     ]
    }
   ],
   "source": [
    "# 03:35~\n",
    "L2_as2actuator_kirikawa2(0,145,-55,4.5) "
   ]
  },
  {
   "cell_type": "code",
   "execution_count": 16,
   "metadata": {},
   "outputs": [
    {
     "name": "stdout",
     "output_type": "stream",
     "text": [
      "You wanna move L2 z:0mm, Rx:65arcsec, Ry:-55arcsec ?\n",
      "Hahaha.. you fuckin Move actuator1: -0.082mm, actuator2: 0.022mm, actuator3: 0.060mm \n"
     ]
    }
   ],
   "source": [
    "# 03:35~\n",
    "L2_as2actuator_kirikawa2(0,65,-55,4.5) "
   ]
  },
  {
   "cell_type": "code",
   "execution_count": 18,
   "metadata": {},
   "outputs": [
    {
     "name": "stdout",
     "output_type": "stream",
     "text": [
      "You wanna move L2 z:0mm, Rx:5arcsec, Ry:-55arcsec ?\n",
      "Hahaha.. you fuckin Move actuator1: -0.028mm, actuator2: -0.027mm, actuator3: 0.055mm \n"
     ]
    }
   ],
   "source": [
    "# 04:28~\n",
    "L2_as2actuator_kirikawa2(0,5,-55,4.5) "
   ]
  },
  {
   "cell_type": "code",
   "execution_count": null,
   "metadata": {},
   "outputs": [],
   "source": []
  }
 ],
 "metadata": {
  "kernelspec": {
   "display_name": "Python 3",
   "language": "python",
   "name": "python3"
  },
  "language_info": {
   "codemirror_mode": {
    "name": "ipython",
    "version": 3
   },
   "file_extension": ".py",
   "mimetype": "text/x-python",
   "name": "python",
   "nbconvert_exporter": "python",
   "pygments_lexer": "ipython3",
   "version": "3.6.8"
  },
  "toc": {
   "base_numbering": 1,
   "nav_menu": {},
   "number_sections": true,
   "sideBar": true,
   "skip_h1_title": false,
   "title_cell": "Table of Contents",
   "title_sidebar": "Contents",
   "toc_cell": false,
   "toc_position": {},
   "toc_section_display": true,
   "toc_window_display": false
  }
 },
 "nbformat": 4,
 "nbformat_minor": 4
}
