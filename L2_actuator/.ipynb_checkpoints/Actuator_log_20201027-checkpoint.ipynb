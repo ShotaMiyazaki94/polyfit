{
 "cells": [
  {
   "cell_type": "code",
   "execution_count": 1,
   "metadata": {},
   "outputs": [],
   "source": [
    "import numpy as np\n",
    "def L2_as2actuator(z_mm, Rx_as, Ry_as, A1theta_deg = 0):\n",
    "    R=205.# mm\n",
    "    Rx_rad = np.radians(Rx_as/3600)\n",
    "    Ry_rad = np.radians(Ry_as/3600)\n",
    "    #R_size = np.sqrt(Rx_rad**2+Ry_rad**2)\n",
    "    #Rx_rad = R_size*np.cos(np.radians(A1theta_deg))\n",
    "    #Ry_rad = R_size*np.sin(np.radians(A1theta_deg))\n",
    "    A1=z_mm - R*np.tan(Ry_rad)\n",
    "    A2=z_mm + R/2*(np.tan(Ry_rad) - np.sqrt(3)*np.tan(Rx_rad))\n",
    "    A3=z_mm + R/2*(np.tan(Ry_rad) + np.sqrt(3)*np.tan(Rx_rad))\n",
    "    print('You wanna move L2 z:{0}mm, Rx:{1}arcsec, Ry:{2}arcsec ?'.format(z_mm, Rx_as, Ry_as))\n",
    "    print('Hahaha.. you fuckin Move actuator1: {0:.4f}mm, actuator2: {1:.4f}mm, actuator3: {2:.4f}mm '.format(A1,A2,A3))\n",
    "    return A1,A2,A3\n",
    "def L2_as2actuator_kirikawa(z_mm, Rx_as, Ry_as, A1theta_deg):\n",
    "    R=205.# mm\n",
    "    Rx_rad = np.radians(Rx_as/3600)\n",
    "    Ry_rad = np.radians(Ry_as/3600)\n",
    "    x_A3 = R*np.cos(np.radians(A1theta_deg))\n",
    "    y_A3 = R*np.sin(np.radians(A1theta_deg))\n",
    "    #A1=z_mm + ((- x_A1*np.sin(Ry_rad) + y_A1*np.sin(Rx_rad)*np.cos(Ry_rad))/np.cos(Ry_rad))\n",
    "    #A1=z_mm + ((- x_A1*np.sin(Ry_rad) + y_A1*np.sin(Rx_rad)*np.cos(Ry_rad))/(np.cos(Rx_rad)*np.cos(Ry_rad)))\n",
    "    x_A1 = R*np.cos(np.radians(240 + A1theta_deg))\n",
    "    y_A1 = R*np.sin(np.radians(240 + A1theta_deg))\n",
    "    #A2=z_mm + ((- x_A2*np.sin(Ry_rad) + y_A2*np.sin(Rx_rad)*np.cos(Ry_rad))/(np.cos(Rx_rad)*np.cos(Ry_rad)))\n",
    "    x_A2 = R*np.cos(np.radians(120 + A1theta_deg))\n",
    "    y_A2 = R*np.sin(np.radians(120 + A1theta_deg))\n",
    "    A1=z_mm + ((- x_A1*np.sin(Ry_rad) + y_A1*np.sin(Rx_rad)*np.cos(Ry_rad))/(np.cos(Rx_rad)*np.cos(Ry_rad)))\n",
    "    A2=z_mm + ((- x_A2*np.sin(Ry_rad) + y_A2*np.sin(Rx_rad)*np.cos(Ry_rad))/(np.cos(Rx_rad)*np.cos(Ry_rad)))\n",
    "    A3=z_mm + ((- x_A3*np.sin(Ry_rad) + y_A3*np.sin(Rx_rad)*np.cos(Ry_rad))/(np.cos(Rx_rad)*np.cos(Ry_rad)))\n",
    "    print('You wanna move L2 z:{0}mm, Rx:{1}arcsec, Ry:{2}arcsec ?'.format(z_mm, Rx_as, Ry_as))\n",
    "    print('Hahaha.. you fuckin Move actuator1: {0:.4f}mm, actuator2: {1:.4f}mm, actuator3: {2:.4f}mm '.format(-A1,-A2,-A3))\n",
    "    return A1,A2,A3\n",
    "def L2_as2actuator_kirikawa2(z_mm, Rx_as, Ry_as, A1theta_deg):\n",
    "    R=205.# mm\n",
    "    Rx_rad = np.radians(Rx_as/3600)\n",
    "    Ry_rad = np.radians(Ry_as/3600)\n",
    "    x_A3 = R*np.cos(np.radians(A1theta_deg))\n",
    "    y_A3 = R*np.sin(np.radians(A1theta_deg))\n",
    "    #A1=z_mm + ((- x_A1*np.sin(Ry_rad) + y_A1*np.sin(Rx_rad)*np.cos(Ry_rad))/np.cos(Ry_rad))\n",
    "    #A1=z_mm + ((- x_A1*np.cos(Rx_rad)*np.sin(Ry_rad) + y_A1*np.sin(Rx_rad))/(np.cos(Rx_rad)*np.cos(Ry_rad)))\n",
    "    x_A1 = R*np.cos(np.radians(240 + A1theta_deg))\n",
    "    y_A1 = R*np.sin(np.radians(240 + A1theta_deg))\n",
    "    #A2=z_mm + ((- x_A2*np.cos(Rx_rad)*np.sin(Ry_rad) + y_A2*np.sin(Rx_rad))/(np.cos(Rx_rad)*np.cos(Ry_rad)))\n",
    "    x_A2 = R*np.cos(np.radians(120 + A1theta_deg))\n",
    "    y_A2 = R*np.sin(np.radians(120 + A1theta_deg))\n",
    "    A1=z_mm + ((- x_A1*np.cos(Rx_rad)*np.sin(Ry_rad) + y_A1*np.sin(Rx_rad))/(np.cos(Rx_rad)*np.cos(Ry_rad)))\n",
    "    A2=z_mm + ((- x_A2*np.cos(Rx_rad)*np.sin(Ry_rad) + y_A2*np.sin(Rx_rad))/(np.cos(Rx_rad)*np.cos(Ry_rad)))\n",
    "    A3=z_mm + ((- x_A3*np.cos(Rx_rad)*np.sin(Ry_rad) + y_A3*np.sin(Rx_rad))/(np.cos(Rx_rad)*np.cos(Ry_rad)))\n",
    "    print('You wanna move L2 z:{0}mm, Rx:{1}arcsec, Ry:{2}arcsec ?'.format(z_mm, Rx_as, Ry_as))\n",
    "    print('Hahaha.. you fuckin Move actuator1: {0:.3f}mm, actuator2: {1:.3f}mm, actuator3: {2:.3f}mm '.format(A1,A2,A3))"
   ]
  },
  {
   "cell_type": "markdown",
   "metadata": {},
   "source": [
    "#### Move log 2020/10/27"
   ]
  },
  {
   "cell_type": "code",
   "execution_count": 2,
   "metadata": {},
   "outputs": [
    {
     "name": "stdout",
     "output_type": "stream",
     "text": [
      "You wanna move L2 z:0mm, Rx:5arcsec, Ry:-55arcsec ?\n",
      "Hahaha.. you fuckin Move actuator1: -0.028mm, actuator2: -0.027mm, actuator3: 0.055mm \n"
     ]
    }
   ],
   "source": [
    "# beginning\n",
    "L2_as2actuator_kirikawa2(0,5,-55,4.5) "
   ]
  },
  {
   "cell_type": "code",
   "execution_count": 3,
   "metadata": {},
   "outputs": [
    {
     "name": "stdout",
     "output_type": "stream",
     "text": [
      "You wanna move L2 z:0mm, Rx:45arcsec, Ry:-55arcsec ?\n",
      "Hahaha.. you fuckin Move actuator1: -0.064mm, actuator2: 0.006mm, actuator3: 0.058mm \n"
     ]
    }
   ],
   "source": [
    "# 18:29\n",
    "L2_as2actuator_kirikawa2(0,45,-55,4.5) "
   ]
  },
  {
   "cell_type": "code",
   "execution_count": 4,
   "metadata": {},
   "outputs": [
    {
     "name": "stdout",
     "output_type": "stream",
     "text": [
      "You wanna move L2 z:0mm, Rx:25arcsec, Ry:-55arcsec ?\n",
      "Hahaha.. you fuckin Move actuator1: -0.046mm, actuator2: -0.010mm, actuator3: 0.056mm \n"
     ]
    }
   ],
   "source": [
    "# 18:58\n",
    "L2_as2actuator_kirikawa2(0,25,-55,4.5) "
   ]
  },
  {
   "cell_type": "code",
   "execution_count": 5,
   "metadata": {},
   "outputs": [
    {
     "name": "stdout",
     "output_type": "stream",
     "text": [
      "You wanna move L2 z:0mm, Rx:25arcsec, Ry:100arcsec ?\n",
      "Hahaha.. you fuckin Move actuator1: 0.020mm, actuator2: 0.077mm, actuator3: -0.097mm \n"
     ]
    }
   ],
   "source": [
    "# 19:47\n",
    "L2_as2actuator_kirikawa2(0,25,100,4.5) "
   ]
  },
  {
   "cell_type": "code",
   "execution_count": 7,
   "metadata": {},
   "outputs": [
    {
     "name": "stdout",
     "output_type": "stream",
     "text": [
      "You wanna move L2 z:0mm, Rx:25arcsec, Ry:50arcsec ?\n",
      "Hahaha.. you fuckin Move actuator1: -0.001mm, actuator2: 0.049mm, actuator3: -0.048mm \n"
     ]
    }
   ],
   "source": [
    "# 19:49\n",
    "L2_as2actuator_kirikawa2(0,25,50,4.5) "
   ]
  },
  {
   "cell_type": "code",
   "execution_count": 8,
   "metadata": {},
   "outputs": [
    {
     "name": "stdout",
     "output_type": "stream",
     "text": [
      "You wanna move L2 z:0mm, Rx:0arcsec, Ry:50arcsec ?\n",
      "Hahaha.. you fuckin Move actuator1: 0.021mm, actuator2: 0.028mm, actuator3: -0.050mm \n"
     ]
    }
   ],
   "source": [
    "# 19:52\n",
    "L2_as2actuator_kirikawa2(0,0,50,4.5) "
   ]
  },
  {
   "cell_type": "code",
   "execution_count": 10,
   "metadata": {},
   "outputs": [
    {
     "name": "stdout",
     "output_type": "stream",
     "text": [
      "You wanna move L2 z:0mm, Rx:-30arcsec, Ry:50arcsec ?\n",
      "Hahaha.. you fuckin Move actuator1: 0.048mm, actuator2: 0.004mm, actuator3: -0.052mm \n"
     ]
    }
   ],
   "source": [
    "# 19:55\n",
    "L2_as2actuator_kirikawa2(0,-30,50,4.5) "
   ]
  },
  {
   "cell_type": "code",
   "execution_count": 11,
   "metadata": {},
   "outputs": [
    {
     "name": "stdout",
     "output_type": "stream",
     "text": [
      "You wanna move L2 z:0mm, Rx:-30arcsec, Ry:70arcsec ?\n",
      "Hahaha.. you fuckin Move actuator1: 0.057mm, actuator2: 0.015mm, actuator3: -0.072mm \n"
     ]
    }
   ],
   "source": [
    "# 20:45\n",
    "L2_as2actuator_kirikawa2(0,-30,70,4.5) "
   ]
  },
  {
   "cell_type": "code",
   "execution_count": 12,
   "metadata": {},
   "outputs": [
    {
     "name": "stdout",
     "output_type": "stream",
     "text": [
      "You wanna move L2 z:0mm, Rx:-30arcsec, Ry:30arcsec ?\n",
      "Hahaha.. you fuckin Move actuator1: 0.040mm, actuator2: -0.008mm, actuator3: -0.032mm \n"
     ]
    }
   ],
   "source": [
    "# 21:36\n",
    "L2_as2actuator_kirikawa2(0,-30,30,4.5) "
   ]
  },
  {
   "cell_type": "code",
   "execution_count": 14,
   "metadata": {},
   "outputs": [
    {
     "name": "stdout",
     "output_type": "stream",
     "text": [
      "You wanna move L2 z:0mm, Rx:-60arcsec, Ry:30arcsec ?\n",
      "Hahaha.. you fuckin Move actuator1: 0.067mm, actuator2: -0.032mm, actuator3: -0.034mm \n"
     ]
    }
   ],
   "source": [
    "# 21:49\n",
    "L2_as2actuator_kirikawa2(0,-60,30,4.5) "
   ]
  },
  {
   "cell_type": "code",
   "execution_count": 15,
   "metadata": {},
   "outputs": [
    {
     "name": "stdout",
     "output_type": "stream",
     "text": [
      "You wanna move L2 z:0mm, Rx:-60arcsec, Ry:-150arcsec ?\n",
      "Hahaha.. you fuckin Move actuator1: -0.010mm, actuator2: -0.134mm, actuator3: 0.144mm \n"
     ]
    }
   ],
   "source": [
    "# 22:49\n",
    "L2_as2actuator_kirikawa2(0,-60,-150,4.5) "
   ]
  },
  {
   "cell_type": "code",
   "execution_count": 16,
   "metadata": {},
   "outputs": [
    {
     "name": "stdout",
     "output_type": "stream",
     "text": [
      "You wanna move L2 z:0mm, Rx:-60arcsec, Ry:-220arcsec ?\n",
      "Hahaha.. you fuckin Move actuator1: -0.040mm, actuator2: -0.173mm, actuator3: 0.213mm \n"
     ]
    }
   ],
   "source": [
    "# 22:57\n",
    "L2_as2actuator_kirikawa2(0,-60,-220,4.5) "
   ]
  },
  {
   "cell_type": "code",
   "execution_count": 18,
   "metadata": {},
   "outputs": [
    {
     "name": "stdout",
     "output_type": "stream",
     "text": [
      "You wanna move L2 z:0mm, Rx:-60arcsec, Ry:100arcsec ?\n",
      "Hahaha.. you fuckin Move actuator1: 0.097mm, actuator2: 0.007mm, actuator3: -0.104mm \n"
     ]
    }
   ],
   "source": [
    "# 23:39~\n",
    "L2_as2actuator_kirikawa2(0,-60,100,4.5) "
   ]
  },
  {
   "cell_type": "code",
   "execution_count": null,
   "metadata": {},
   "outputs": [],
   "source": []
  }
 ],
 "metadata": {
  "kernelspec": {
   "display_name": "Python 3",
   "language": "python",
   "name": "python3"
  },
  "language_info": {
   "codemirror_mode": {
    "name": "ipython",
    "version": 3
   },
   "file_extension": ".py",
   "mimetype": "text/x-python",
   "name": "python",
   "nbconvert_exporter": "python",
   "pygments_lexer": "ipython3",
   "version": "3.6.8"
  },
  "toc": {
   "base_numbering": 1,
   "nav_menu": {},
   "number_sections": true,
   "sideBar": true,
   "skip_h1_title": false,
   "title_cell": "Table of Contents",
   "title_sidebar": "Contents",
   "toc_cell": false,
   "toc_position": {},
   "toc_section_display": true,
   "toc_window_display": false
  }
 },
 "nbformat": 4,
 "nbformat_minor": 4
}
