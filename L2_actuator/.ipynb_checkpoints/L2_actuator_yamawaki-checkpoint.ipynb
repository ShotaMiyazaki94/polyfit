{
 "cells": [
  {
   "cell_type": "code",
   "execution_count": 3,
   "metadata": {
    "ExecuteTime": {
     "end_time": "2022-06-28T06:36:35.142393Z",
     "start_time": "2022-06-28T06:36:35.052421Z"
    }
   },
   "outputs": [],
   "source": [
    "import numpy as np"
   ]
  },
  {
   "cell_type": "code",
   "execution_count": 8,
   "metadata": {
    "ExecuteTime": {
     "end_time": "2022-06-28T06:37:04.209142Z",
     "start_time": "2022-06-28T06:37:04.198144Z"
    }
   },
   "outputs": [],
   "source": [
    "def L2_as2actuator(z_mm, Rx_as, Ry_as, A1theta_deg = 0):\n",
    "    R=205.# mm\n",
    "    Rx_rad = np.radians(Rx_as/3600)\n",
    "    Ry_rad = np.radians(Ry_as/3600)\n",
    "    #R_size = np.sqrt(Rx_rad**2+Ry_rad**2)\n",
    "    #Rx_rad = R_size*np.cos(np.radians(A1theta_deg))\n",
    "    #Ry_rad = R_size*np.sin(np.radians(A1theta_deg))\n",
    "    A1=z_mm - R*np.tan(Ry_rad)\n",
    "    A2=z_mm + R/2*(np.tan(Ry_rad) - np.sqrt(3)*np.tan(Rx_rad))\n",
    "    A3=z_mm + R/2*(np.tan(Ry_rad) + np.sqrt(3)*np.tan(Rx_rad))\n",
    "    print('You wanna move L2 z:{0}mm, Rx:{1}arcsec, Ry:{2}arcsec ?'.format(z_mm, Rx_as, Ry_as))\n",
    "    print('Move actuator1: {0:.4f}mm, actuator2: {1:.4f}mm, actuator3: {2:.4f}mm '.format(A1,A2,A3))\n",
    "    return A1,A2,A3\n",
    "def L2_as2actuator2(z_mm, Rx_as, Ry_as, A1theta_deg=0):\n",
    "    R=205.# mm\n",
    "    Rx_rad = np.radians(Rx_as/3600)\n",
    "    Ry_rad = np.radians(Ry_as/3600)\n",
    "    Rx_rad = Rx_rad + np.arcsin(-np.sin(np.radians(A1theta_deg))/np.sin(Ry_rad))\n",
    "    Ry_rad = np.arccos(np.cos(Ry_rad)/np.cos(np.radians(A1theta_deg)))\n",
    "    A1=z_mm - R*np.tan(Ry_rad)\n",
    "    A2=z_mm + R/2*(np.tan(Ry_rad) - np.sqrt(3)*np.tan(Rx_rad))\n",
    "    A3=z_mm + R/2*(np.tan(Ry_rad) + np.sqrt(3)*np.tan(Rx_rad))\n",
    "    print('You wanna move L2 z:{0}mm, Rx:{1}arcsec, Ry:{2}arcsec ?'.format(z_mm, Rx_as, Ry_as))\n",
    "    print('Move actuator1: {0:.4f}mm, actuator2: {1:.4f}mm, actuator3: {2:.4f}mm '.format(A1,A2,A3))\n",
    "    return A1,A2,A3"
   ]
  },
  {
   "cell_type": "code",
   "execution_count": 9,
   "metadata": {
    "ExecuteTime": {
     "end_time": "2022-06-28T06:37:04.383736Z",
     "start_time": "2022-06-28T06:37:04.376758Z"
    }
   },
   "outputs": [
    {
     "name": "stdout",
     "output_type": "stream",
     "text": [
      "You wanna move L2 z:1mm, Rx:60arcsec, Ry:60arcsec ?\n",
      "Move actuator1: 0.9404mm, actuator2: 0.9782mm, actuator3: 1.0815mm \n",
      "You wanna move L2 z:1mm, Rx:60arcsec, Ry:60arcsec ?\n",
      "Move actuator1: 0.9404mm, actuator2: 0.9782mm, actuator3: 1.0815mm \n"
     ]
    },
    {
     "data": {
      "text/plain": [
       "(0.9403679155365526, 0.9781731422101173, 1.08145894225333)"
      ]
     },
     "execution_count": 9,
     "metadata": {},
     "output_type": "execute_result"
    }
   ],
   "source": [
    "L2_as2actuator(1,60,60)\n",
    "L2_as2actuator2(1,60,60)"
   ]
  },
  {
   "cell_type": "code",
   "execution_count": null,
   "metadata": {},
   "outputs": [],
   "source": []
  }
 ],
 "metadata": {
  "kernelspec": {
   "display_name": "Python 3",
   "language": "python",
   "name": "python3"
  },
  "language_info": {
   "codemirror_mode": {
    "name": "ipython",
    "version": 3
   },
   "file_extension": ".py",
   "mimetype": "text/x-python",
   "name": "python",
   "nbconvert_exporter": "python",
   "pygments_lexer": "ipython3",
   "version": "3.9.5"
  },
  "toc": {
   "base_numbering": 1,
   "nav_menu": {},
   "number_sections": true,
   "sideBar": true,
   "skip_h1_title": false,
   "title_cell": "Table of Contents",
   "title_sidebar": "Contents",
   "toc_cell": false,
   "toc_position": {},
   "toc_section_display": true,
   "toc_window_display": false
  }
 },
 "nbformat": 4,
 "nbformat_minor": 4
}
